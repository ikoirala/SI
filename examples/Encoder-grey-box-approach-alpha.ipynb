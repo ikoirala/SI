{
 "cells": [
  {
   "cell_type": "code",
   "execution_count": 1,
   "id": "5d21ca33",
   "metadata": {},
   "outputs": [],
   "source": [
    "import deepSI\n",
    "import numpy as np\n",
    "from matplotlib import pyplot as plt\n",
    "import torch\n",
    "from torch import optim, nn\n",
    "from tqdm.auto import tqdm\n",
    "from deepSI import System_data, System_data_list"
   ]
  },
  {
   "cell_type": "markdown",
   "id": "4d7130df",
   "metadata": {},
   "source": [
    "## Data generation\n",
    "\n",
    "Creating some data for the system\n",
    "\n",
    "$$\n",
    "x_{t+1} = a x_t + u_t\\\\\n",
    "y_t = x_t\n",
    "$$\n",
    "\n",
    "with $a=0.5$"
   ]
  },
  {
   "cell_type": "code",
   "execution_count": 2,
   "id": "01f4b843",
   "metadata": {},
   "outputs": [
    {
     "name": "stdout",
     "output_type": "stream",
     "text": [
      "train:\t System_data of length: 5625 nu=None ny=None normed=False dt=None\n",
      "val:\t System_data of length: 1875 nu=None ny=None normed=False dt=None\n",
      "test:\t System_data of length: 2500 nu=None ny=None normed=False dt=None\n"
     ]
    }
   ],
   "source": [
    "class my_sys(deepSI.System_ss): #a simple state-space wrapper of the general System class\n",
    "    def __init__(self, a=0.5):\n",
    "        super(my_sys, self).__init__(nx=1)\n",
    "        self.a = a\n",
    "    \n",
    "    def f(self, x, u):\n",
    "        return self.a*x + u\n",
    "    \n",
    "    def h(self,x,u):\n",
    "        return x[0]\n",
    "\n",
    "a_now = 0.5\n",
    "sys = my_sys(a=a_now)\n",
    "data = sys.sample_system(N_sampes=10000) #uniform -1,1 \n",
    "train, test = data.train_test_split()\n",
    "train, val = train.train_test_split()\n",
    "print('train:\\t', train)\n",
    "print('val:\\t', val)\n",
    "print('test:\\t', test)"
   ]
  },
  {
   "cell_type": "markdown",
   "id": "d09de0e3",
   "metadata": {},
   "source": [
    "## Creating a custom encoder, $f_\\theta$, $g_\\theta$ for this sytem."
   ]
  },
  {
   "cell_type": "code",
   "execution_count": 3,
   "id": "04234b90",
   "metadata": {},
   "outputs": [],
   "source": [
    "class my_encoder_net(nn.Module): #a simple FC net with a residual (defaulth appraoch)\n",
    "    def __init__(self, nb, nu, na, ny, nx, n_nodes_per_layer=64, n_hidden_layers=2, activation=nn.Tanh):\n",
    "        super(my_encoder_net, self).__init__()\n",
    "        from deepSI.utils import simple_res_net\n",
    "        self.nu = tuple() if nu is None else ((nu,) if isinstance(nu,int) else nu)\n",
    "        self.ny = tuple() if ny is None else ((ny,) if isinstance(ny,int) else ny)\n",
    "        self.net = simple_res_net(n_in=nb*np.prod(self.nu,dtype=int) + na*np.prod(self.ny,dtype=int), \\\n",
    "            n_out=nx, n_nodes_per_layer=n_nodes_per_layer, n_hidden_layers=n_hidden_layers, activation=activation)\n",
    "\n",
    "    def forward(self, upast, ypast):\n",
    "        net_in = torch.cat([upast.view(upast.shape[0],-1),ypast.view(ypast.shape[0],-1)],axis=1)\n",
    "        return self.net(net_in)\n",
    "\n",
    "class my_lin_encoder_net(nn.Module): #linear encoder appraoch\n",
    "    def __init__(self, nb, nu, na, ny, nx, b0=0.5):\n",
    "        super(my_lin_encoder_net, self).__init__()\n",
    "        self.b = nn.Parameter(data=torch.as_tensor(b0))\n",
    "\n",
    "    def forward(self, upast, ypast):\n",
    "        #first dimention is always the batch dimension (Nb)\n",
    "        #upast shape: (Nb, nb)\n",
    "        #ypast shape: (Nb, na)\n",
    "        return (upast[:,-1] + self.b*ypast[:,-1])[:,None]\n",
    "\n",
    "class my_state_net(nn.Module): #\n",
    "    def __init__(self, nx, nu, a0=0.5):\n",
    "        super(my_state_net, self).__init__()\n",
    "        self.a = nn.Parameter(data=torch.as_tensor(a0))\n",
    "\n",
    "    def forward(self, x, u):\n",
    "        #first dimention is always the batch dimention\n",
    "        # x shape: (Nb, 1)\n",
    "        # u shape: (Nb)\n",
    "        return x*self.a + u[:,None]\n",
    "\n",
    "class my_output_net(nn.Module):\n",
    "    def __init__(self, nx, ny):\n",
    "        super(my_output_net, self).__init__()\n",
    "\n",
    "    def forward(self, x, u=None):\n",
    "        #first dimention is always the batch dimention\n",
    "        return x[:,0] #(Nb,nx)"
   ]
  },
  {
   "cell_type": "markdown",
   "id": "91cfa124",
   "metadata": {},
   "source": [
    "## test if this setup can reproduce the data"
   ]
  },
  {
   "cell_type": "code",
   "execution_count": 4,
   "id": "116bd452",
   "metadata": {},
   "outputs": [
    {
     "data": {
      "image/png": "[encoded data removed]",
      "text/plain": [
       "<Figure size 432x288 with 1 Axes>"
      ]
     },
     "metadata": {
      "needs_background": "light"
     },
     "output_type": "display_data"
    },
    {
     "data": {
      "text/plain": [
       "3.158645231422938e-08"
      ]
     },
     "execution_count": 4,
     "metadata": {},
     "output_type": "execute_result"
    }
   ],
   "source": [
    "\n",
    "fit_sys = deepSI.fit_systems.SS_encoder_general(nx=1, na=1, nb=1, \\\n",
    "                                                e_net=my_lin_encoder_net, e_net_kwargs=dict(b0=a_now),\\\n",
    "                                                f_net=my_state_net, f_net_kwargs=dict(a0=a_now),\\\n",
    "                                                h_net=my_output_net)\n",
    "fit_sys.init_model(nu=None, ny=None) #init the network callaed as e_net(**e_net_kwargs) \n",
    "test_p = fit_sys.apply_experiment(test)\n",
    "test.plot()\n",
    "(test_p-test).plot()\n",
    "plt.show()\n",
    "test_p.NRMS(test) #3.2e-8"
   ]
  },
  {
   "cell_type": "markdown",
   "id": "d28bfb46",
   "metadata": {},
   "source": [
    "# Fitting with linear encoder"
   ]
  },
  {
   "cell_type": "code",
   "execution_count": 5,
   "id": "e3ab6e3c",
   "metadata": {
    "scrolled": true
   },
   "outputs": [
    {
     "name": "stdout",
     "output_type": "stream",
     "text": [
      "Model already initilized (init_model_done=True), skipping initilizing of the model, the norm and the creation of the optimizer\n",
      "Size of the training array =  2.9 MB\n",
      "N_training_samples = 5581, batch_size = 256, N_batch_updates_per_epoch = 21\n",
      "Initial Validation sim-NRMS= 0.07146040872594304\n"
     ]
    },
    {
     "data": {
      "application/vnd.jupyter.widget-view+json": {
       "model_id": "f82559cb4368483b8c802aee55c712e7",
       "version_major": 2,
       "version_minor": 0
      },
      "text/plain": [
       "  0%|          | 0/100 [00:00<?, ?it/s]"
      ]
     },
     "metadata": {},
     "output_type": "display_data"
    },
    {
     "name": "stdout",
     "output_type": "stream",
     "text": [
      "########## New lowest validation loss achieved ########### sim-NRMS = 0.04328681969163392\n",
      "Epoch    1, sqrt loss 0.06567, Val sim-NRMS 0.04329, Time Loss: 73.1%, data: 1.5%, val: 25.3%, 58.9 batches/sec\n",
      "########## New lowest validation loss achieved ########### sim-NRMS = 0.019382261015877134\n",
      "Epoch    2, sqrt loss 0.03592, Val sim-NRMS 0.01938, Time Loss: 67.5%, data: 1.6%, val: 30.9%, 78.2 batches/sec\n",
      "########## New lowest validation loss achieved ########### sim-NRMS = 0.0046766883511966525\n",
      "Epoch    3, sqrt loss 0.01376, Val sim-NRMS 0.004677, Time Loss: 62.0%, data: 1.3%, val: 36.6%, 87.6 batches/sec\n",
      "########## New lowest validation loss achieved ########### sim-NRMS = 0.00046241809797717946\n",
      "Epoch    4, sqrt loss 0.002454, Val sim-NRMS 0.0004624, Time Loss: 58.2%, data: 1.3%, val: 40.5%, 88.5 batches/sec\n",
      "Epoch    5, sqrt loss 0.0008716, Val sim-NRMS 0.000705, Time Loss: 56.2%, data: 1.2%, val: 42.6%, 94.3 batches/sec\n",
      "########## New lowest validation loss achieved ########### sim-NRMS = 0.00011899891263178353\n",
      "Epoch    6, sqrt loss 0.0004936, Val sim-NRMS 0.000119, Time Loss: 54.3%, data: 1.7%, val: 44.0%, 96.5 batches/sec\n",
      "########## New lowest validation loss achieved ########### sim-NRMS = 5.8851641989846364e-05\n",
      "Epoch    7, sqrt loss 6.028e-05, Val sim-NRMS 5.885e-05, Time Loss: 52.9%, data: 1.5%, val: 45.6%, 94.7 batches/sec\n",
      "########## New lowest validation loss achieved ########### sim-NRMS = 2.0974158048645422e-05\n",
      "Epoch    8, sqrt loss 5.195e-05, Val sim-NRMS 2.097e-05, Time Loss: 51.9%, data: 1.6%, val: 46.5%, 95.1 batches/sec\n",
      "########## New lowest validation loss achieved ########### sim-NRMS = 5.065089451645591e-06\n",
      "Epoch    9, sqrt loss 1.046e-05, Val sim-NRMS 5.065e-06, Time Loss: 51.0%, data: 1.6%, val: 47.4%, 96.0 batches/sec\n",
      "########## New lowest validation loss achieved ########### sim-NRMS = 2.3504410593605963e-06\n",
      "Epoch   10, sqrt loss 5.332e-06, Val sim-NRMS 2.35e-06, Time Loss: 50.6%, data: 1.9%, val: 47.5%, 98.2 batches/sec\n",
      "########## New lowest validation loss achieved ########### sim-NRMS = 6.801375954982785e-07\n",
      "Epoch   11, sqrt loss 1.163e-06, Val sim-NRMS 6.801e-07, Time Loss: 51.2%, data: 1.8%, val: 47.0%, 99.6 batches/sec\n",
      "########## New lowest validation loss achieved ########### sim-NRMS = 9.489106523135846e-08\n",
      "Epoch   12, sqrt loss 6.053e-07, Val sim-NRMS 9.489e-08, Time Loss: 50.5%, data: 2.1%, val: 47.4%, 101.9 batches/sec\n",
      "########## New lowest validation loss achieved ########### sim-NRMS = 3.366340544181393e-08\n",
      "Epoch   13, sqrt loss 6.994e-08, Val sim-NRMS 3.366e-08, Time Loss: 50.6%, data: 2.1%, val: 47.3%, 103.6 batches/sec\n",
      "Epoch   14, sqrt loss 6.383e-08, Val sim-NRMS 3.366e-08, Time Loss: 50.1%, data: 2.4%, val: 47.5%, 105.0 batches/sec\n",
      "Epoch   15, sqrt loss 6.385e-08, Val sim-NRMS 3.366e-08, Time Loss: 49.7%, data: 2.3%, val: 47.9%, 105.9 batches/sec\n",
      "Epoch   16, sqrt loss 6.405e-08, Val sim-NRMS 3.366e-08, Time Loss: 49.7%, data: 2.3%, val: 48.0%, 107.1 batches/sec\n",
      "Epoch   17, sqrt loss 6.371e-08, Val sim-NRMS 3.366e-08, Time Loss: 49.7%, data: 2.3%, val: 48.0%, 107.6 batches/sec\n",
      "Epoch   18, sqrt loss 6.398e-08, Val sim-NRMS 3.366e-08, Time Loss: 49.6%, data: 2.4%, val: 48.0%, 108.3 batches/sec\n",
      "########## New lowest validation loss achieved ########### sim-NRMS = 3.3545373319007805e-08\n",
      "Epoch   19, sqrt loss 6.028e-08, Val sim-NRMS 3.355e-08, Time Loss: 49.4%, data: 2.4%, val: 48.1%, 109.2 batches/sec\n",
      "Epoch   20, sqrt loss 5.912e-08, Val sim-NRMS 3.355e-08, Time Loss: 48.9%, data: 2.4%, val: 48.7%, 109.9 batches/sec\n",
      "Epoch   21, sqrt loss 5.915e-08, Val sim-NRMS 3.355e-08, Time Loss: 48.8%, data: 2.3%, val: 48.9%, 110.9 batches/sec\n",
      "Epoch   22, sqrt loss 5.894e-08, Val sim-NRMS 3.355e-08, Time Loss: 48.2%, data: 2.3%, val: 49.5%, 110.9 batches/sec\n",
      "Epoch   23, sqrt loss 5.907e-08, Val sim-NRMS 3.355e-08, Time Loss: 48.1%, data: 2.3%, val: 49.6%, 111.0 batches/sec\n",
      "Epoch   24, sqrt loss 5.687e-08, Val sim-NRMS 3.355e-08, Time Loss: 48.1%, data: 2.3%, val: 49.6%, 111.2 batches/sec\n",
      "Epoch   25, sqrt loss 5.304e-08, Val sim-NRMS 3.355e-08, Time Loss: 47.6%, data: 2.3%, val: 50.1%, 110.9 batches/sec\n",
      "Epoch   26, sqrt loss 5.316e-08, Val sim-NRMS 3.355e-08, Time Loss: 47.5%, data: 2.2%, val: 50.2%, 111.3 batches/sec\n",
      "Epoch   27, sqrt loss 5.306e-08, Val sim-NRMS 3.355e-08, Time Loss: 47.5%, data: 2.4%, val: 50.2%, 111.6 batches/sec\n",
      "Epoch   28, sqrt loss 5.309e-08, Val sim-NRMS 3.355e-08, Time Loss: 47.6%, data: 2.3%, val: 50.1%, 112.1 batches/sec\n",
      "Epoch   29, sqrt loss 5.308e-08, Val sim-NRMS 3.355e-08, Time Loss: 47.8%, data: 2.3%, val: 49.9%, 112.6 batches/sec\n",
      "Epoch   30, sqrt loss 5.303e-08, Val sim-NRMS 3.355e-08, Time Loss: 47.9%, data: 2.3%, val: 49.8%, 112.0 batches/sec\n",
      "Epoch   31, sqrt loss 5.302e-08, Val sim-NRMS 3.355e-08, Time Loss: 47.8%, data: 2.5%, val: 49.7%, 111.7 batches/sec\n",
      "Epoch   32, sqrt loss 5.301e-08, Val sim-NRMS 3.355e-08, Time Loss: 47.9%, data: 2.5%, val: 49.6%, 112.0 batches/sec\n",
      "Epoch   33, sqrt loss 5.313e-08, Val sim-NRMS 3.355e-08, Time Loss: 47.8%, data: 2.4%, val: 49.8%, 112.6 batches/sec\n",
      "Epoch   34, sqrt loss 5.307e-08, Val sim-NRMS 3.355e-08, Time Loss: 47.4%, data: 2.4%, val: 50.2%, 112.3 batches/sec\n",
      "########## New lowest validation loss achieved ########### sim-NRMS = 3.3467217751580054e-08\n",
      "Epoch   35, sqrt loss 5.267e-08, Val sim-NRMS 3.347e-08, Time Loss: 47.3%, data: 2.4%, val: 50.4%, 112.0 batches/sec\n",
      "Epoch   36, sqrt loss 4.951e-08, Val sim-NRMS 3.347e-08, Time Loss: 47.1%, data: 2.4%, val: 50.4%, 112.4 batches/sec\n",
      "Epoch   37, sqrt loss 4.949e-08, Val sim-NRMS 3.347e-08, Time Loss: 47.0%, data: 2.4%, val: 50.7%, 112.3 batches/sec\n",
      "Epoch   38, sqrt loss 4.947e-08, Val sim-NRMS 3.347e-08, Time Loss: 46.8%, data: 2.3%, val: 50.8%, 112.3 batches/sec\n",
      "Epoch   39, sqrt loss 4.954e-08, Val sim-NRMS 3.347e-08, Time Loss: 47.0%, data: 2.3%, val: 50.7%, 112.7 batches/sec\n",
      "Epoch   40, sqrt loss 4.947e-08, Val sim-NRMS 3.347e-08, Time Loss: 46.9%, data: 2.3%, val: 50.8%, 113.0 batches/sec\n",
      "Epoch   41, sqrt loss 4.943e-08, Val sim-NRMS 3.347e-08, Time Loss: 46.8%, data: 2.3%, val: 50.9%, 112.3 batches/sec\n",
      "Epoch   42, sqrt loss 4.947e-08, Val sim-NRMS 3.347e-08, Time Loss: 46.9%, data: 2.3%, val: 50.8%, 112.5 batches/sec\n",
      "Epoch   43, sqrt loss 4.953e-08, Val sim-NRMS 3.347e-08, Time Loss: 46.9%, data: 2.3%, val: 50.8%, 112.9 batches/sec\n",
      "Epoch   44, sqrt loss 4.947e-08, Val sim-NRMS 3.347e-08, Time Loss: 46.9%, data: 2.2%, val: 50.8%, 113.3 batches/sec\n",
      "Epoch   45, sqrt loss 4.939e-08, Val sim-NRMS 3.347e-08, Time Loss: 46.7%, data: 2.2%, val: 51.0%, 113.2 batches/sec\n",
      "Epoch   46, sqrt loss 4.944e-08, Val sim-NRMS 3.347e-08, Time Loss: 46.7%, data: 2.2%, val: 51.0%, 113.5 batches/sec\n",
      "Epoch   47, sqrt loss 4.946e-08, Val sim-NRMS 3.347e-08, Time Loss: 46.7%, data: 2.2%, val: 51.1%, 112.7 batches/sec\n",
      "########## New lowest validation loss achieved ########### sim-NRMS = 3.334970211487555e-08\n",
      "Epoch   48, sqrt loss 4.605e-08, Val sim-NRMS 3.335e-08, Time Loss: 46.8%, data: 2.1%, val: 51.1%, 113.0 batches/sec\n",
      "Epoch   49, sqrt loss 4.498e-08, Val sim-NRMS 3.335e-08, Time Loss: 46.7%, data: 2.1%, val: 51.2%, 113.0 batches/sec\n",
      "Epoch   50, sqrt loss 4.503e-08, Val sim-NRMS 3.335e-08, Time Loss: 46.6%, data: 2.1%, val: 51.2%, 113.3 batches/sec\n",
      "Epoch   51, sqrt loss 4.497e-08, Val sim-NRMS 3.335e-08, Time Loss: 46.7%, data: 2.1%, val: 51.2%, 113.5 batches/sec\n",
      "Epoch   52, sqrt loss 4.495e-08, Val sim-NRMS 3.335e-08, Time Loss: 46.7%, data: 2.2%, val: 51.1%, 113.9 batches/sec\n",
      "Epoch   53, sqrt loss 4.497e-08, Val sim-NRMS 3.335e-08, Time Loss: 46.5%, data: 2.2%, val: 51.3%, 113.8 batches/sec\n",
      "Epoch   54, sqrt loss 4.506e-08, Val sim-NRMS 3.335e-08, Time Loss: 46.5%, data: 2.2%, val: 51.2%, 113.2 batches/sec\n",
      "Epoch   55, sqrt loss 4.501e-08, Val sim-NRMS 3.335e-08, Time Loss: 46.5%, data: 2.2%, val: 51.2%, 113.5 batches/sec\n",
      "Epoch   56, sqrt loss 4.499e-08, Val sim-NRMS 3.335e-08, Time Loss: 46.5%, data: 2.2%, val: 51.3%, 113.7 batches/sec\n",
      "Epoch   57, sqrt loss 4.505e-08, Val sim-NRMS 3.335e-08, Time Loss: 46.5%, data: 2.2%, val: 51.2%, 113.9 batches/sec\n",
      "Epoch   58, sqrt loss 4.51e-08, Val sim-NRMS 3.335e-08, Time Loss: 46.4%, data: 2.2%, val: 51.3%, 113.7 batches/sec\n",
      "Epoch   59, sqrt loss 4.499e-08, Val sim-NRMS 3.335e-08, Time Loss: 46.3%, data: 2.2%, val: 51.4%, 114.0 batches/sec\n"
     ]
    },
    {
     "name": "stdout",
     "output_type": "stream",
     "text": [
      "Epoch   60, sqrt loss 4.502e-08, Val sim-NRMS 3.335e-08, Time Loss: 46.4%, data: 2.2%, val: 51.3%, 113.9 batches/sec\n",
      "Epoch   61, sqrt loss 4.495e-08, Val sim-NRMS 3.335e-08, Time Loss: 46.4%, data: 2.2%, val: 51.4%, 114.0 batches/sec\n",
      "Epoch   62, sqrt loss 4.502e-08, Val sim-NRMS 3.335e-08, Time Loss: 46.4%, data: 2.2%, val: 51.4%, 113.9 batches/sec\n",
      "Epoch   63, sqrt loss 4.499e-08, Val sim-NRMS 3.335e-08, Time Loss: 46.2%, data: 2.2%, val: 51.5%, 113.7 batches/sec\n",
      "Epoch   64, sqrt loss 4.49e-08, Val sim-NRMS 3.335e-08, Time Loss: 46.3%, data: 2.2%, val: 51.4%, 113.5 batches/sec\n",
      "Epoch   65, sqrt loss 4.496e-08, Val sim-NRMS 3.335e-08, Time Loss: 46.2%, data: 2.3%, val: 51.5%, 113.9 batches/sec\n",
      "Epoch   66, sqrt loss 4.507e-08, Val sim-NRMS 3.335e-08, Time Loss: 46.2%, data: 2.2%, val: 51.5%, 114.0 batches/sec\n",
      "Epoch   67, sqrt loss 4.502e-08, Val sim-NRMS 3.335e-08, Time Loss: 46.2%, data: 2.2%, val: 51.5%, 113.8 batches/sec\n",
      "Epoch   68, sqrt loss 4.496e-08, Val sim-NRMS 3.335e-08, Time Loss: 46.2%, data: 2.2%, val: 51.5%, 114.1 batches/sec\n",
      "Epoch   69, sqrt loss 4.502e-08, Val sim-NRMS 3.335e-08, Time Loss: 46.1%, data: 2.2%, val: 51.6%, 114.2 batches/sec\n",
      "Epoch   70, sqrt loss 4.492e-08, Val sim-NRMS 3.335e-08, Time Loss: 46.1%, data: 2.2%, val: 51.6%, 114.3 batches/sec\n",
      "Epoch   71, sqrt loss 4.498e-08, Val sim-NRMS 3.335e-08, Time Loss: 46.0%, data: 2.2%, val: 51.7%, 114.4 batches/sec\n",
      "Epoch   72, sqrt loss 4.504e-08, Val sim-NRMS 3.335e-08, Time Loss: 46.0%, data: 2.3%, val: 51.7%, 114.6 batches/sec\n",
      "Epoch   73, sqrt loss 4.494e-08, Val sim-NRMS 3.335e-08, Time Loss: 46.0%, data: 2.2%, val: 51.7%, 114.8 batches/sec\n",
      "Epoch   74, sqrt loss 4.504e-08, Val sim-NRMS 3.335e-08, Time Loss: 46.0%, data: 2.2%, val: 51.7%, 115.1 batches/sec\n",
      "Epoch   75, sqrt loss 4.501e-08, Val sim-NRMS 3.335e-08, Time Loss: 46.0%, data: 2.2%, val: 51.7%, 115.0 batches/sec\n",
      "Epoch   76, sqrt loss 4.494e-08, Val sim-NRMS 3.335e-08, Time Loss: 46.0%, data: 2.2%, val: 51.7%, 115.2 batches/sec\n",
      "Epoch   77, sqrt loss 4.501e-08, Val sim-NRMS 3.335e-08, Time Loss: 45.9%, data: 2.2%, val: 51.8%, 115.4 batches/sec\n",
      "Epoch   78, sqrt loss 4.501e-08, Val sim-NRMS 3.335e-08, Time Loss: 46.0%, data: 2.2%, val: 51.7%, 115.6 batches/sec\n",
      "Epoch   79, sqrt loss 4.509e-08, Val sim-NRMS 3.335e-08, Time Loss: 45.9%, data: 2.2%, val: 51.8%, 115.6 batches/sec\n",
      "Epoch   80, sqrt loss 4.507e-08, Val sim-NRMS 3.335e-08, Time Loss: 45.8%, data: 2.3%, val: 51.8%, 115.7 batches/sec\n",
      "Epoch   81, sqrt loss 4.501e-08, Val sim-NRMS 3.335e-08, Time Loss: 45.7%, data: 2.3%, val: 51.9%, 116.0 batches/sec\n",
      "Epoch   82, sqrt loss 4.475e-08, Val sim-NRMS 3.335e-08, Time Loss: 45.8%, data: 2.3%, val: 51.8%, 115.9 batches/sec\n",
      "Epoch   83, sqrt loss 4.383e-08, Val sim-NRMS 3.335e-08, Time Loss: 45.8%, data: 2.3%, val: 51.8%, 116.0 batches/sec\n",
      "Epoch   84, sqrt loss 4.389e-08, Val sim-NRMS 3.335e-08, Time Loss: 45.7%, data: 2.3%, val: 51.9%, 115.8 batches/sec\n",
      "Epoch   85, sqrt loss 4.381e-08, Val sim-NRMS 3.335e-08, Time Loss: 45.7%, data: 2.3%, val: 51.9%, 115.9 batches/sec\n",
      "Epoch   86, sqrt loss 4.374e-08, Val sim-NRMS 3.335e-08, Time Loss: 45.6%, data: 2.4%, val: 51.9%, 116.1 batches/sec\n",
      "Epoch   87, sqrt loss 4.379e-08, Val sim-NRMS 3.335e-08, Time Loss: 45.6%, data: 2.4%, val: 51.9%, 116.2 batches/sec\n",
      "Epoch   88, sqrt loss 4.381e-08, Val sim-NRMS 3.335e-08, Time Loss: 45.7%, data: 2.4%, val: 51.8%, 116.2 batches/sec\n",
      "Epoch   89, sqrt loss 4.386e-08, Val sim-NRMS 3.335e-08, Time Loss: 45.6%, data: 2.4%, val: 51.8%, 116.4 batches/sec\n",
      "Epoch   90, sqrt loss 4.384e-08, Val sim-NRMS 3.335e-08, Time Loss: 45.5%, data: 2.4%, val: 51.9%, 116.2 batches/sec\n",
      "Epoch   91, sqrt loss 4.376e-08, Val sim-NRMS 3.335e-08, Time Loss: 45.6%, data: 2.4%, val: 51.9%, 116.2 batches/sec\n",
      "Epoch   92, sqrt loss 4.369e-08, Val sim-NRMS 3.335e-08, Time Loss: 45.6%, data: 2.5%, val: 51.8%, 115.9 batches/sec\n",
      "Epoch   93, sqrt loss 4.383e-08, Val sim-NRMS 3.335e-08, Time Loss: 45.5%, data: 2.5%, val: 51.9%, 115.7 batches/sec\n",
      "Epoch   94, sqrt loss 4.376e-08, Val sim-NRMS 3.335e-08, Time Loss: 45.5%, data: 2.4%, val: 51.9%, 115.9 batches/sec\n",
      "Epoch   95, sqrt loss 4.382e-08, Val sim-NRMS 3.335e-08, Time Loss: 45.6%, data: 2.4%, val: 51.9%, 116.1 batches/sec\n",
      "Epoch   96, sqrt loss 4.376e-08, Val sim-NRMS 3.335e-08, Time Loss: 45.6%, data: 2.4%, val: 51.9%, 116.2 batches/sec\n",
      "Epoch   97, sqrt loss 4.385e-08, Val sim-NRMS 3.335e-08, Time Loss: 45.7%, data: 2.4%, val: 51.8%, 116.1 batches/sec\n",
      "Epoch   98, sqrt loss 4.385e-08, Val sim-NRMS 3.335e-08, Time Loss: 45.7%, data: 2.4%, val: 51.8%, 116.3 batches/sec\n",
      "Epoch   99, sqrt loss 4.37e-08, Val sim-NRMS 3.335e-08, Time Loss: 45.7%, data: 2.4%, val: 51.8%, 116.3 batches/sec\n",
      "Epoch  100, sqrt loss 4.372e-08, Val sim-NRMS 3.335e-08, Time Loss: 45.7%, data: 2.4%, val: 51.8%, 116.2 batches/sec\n",
      "Loaded model with best known validation sim-NRMS of 3.335e-08 which happened on epoch 48 (epoch_id=100.00)\n"
     ]
    }
   ],
   "source": [
    "fit_sys = deepSI.fit_systems.SS_encoder_general(nx=1, e_net=my_lin_encoder_net, e_net_kwargs=dict(b0=a_now*0.9),\\\n",
    "                                                f_net=my_state_net, f_net_kwargs=dict(a0=a_now*0.9),\\\n",
    "                                                h_net=my_output_net)\n",
    "fit_sys.init_model(nu=None,ny=None)\n",
    "fit_sys.fit(train,val, epochs=100, loss_kwargs=dict(nf=25), auto_fit_norm=False, optimizer_kwargs=dict(betas=(0.99,0.999))) #nf = T in the paper\n"
   ]
  },
  {
   "cell_type": "markdown",
   "id": "f383551c",
   "metadata": {},
   "source": [
    "### Results"
   ]
  },
  {
   "cell_type": "code",
   "execution_count": 6,
   "id": "2bcc34dc",
   "metadata": {},
   "outputs": [
    {
     "name": "stdout",
     "output_type": "stream",
     "text": [
      "a fitted: 0.5  real a: 0.5\n",
      "b fitted: 0.4999999701976776  real b: 0.5\n"
     ]
    },
    {
     "data": {
      "image/png": "[encoded data removed]",
      "text/plain": [
       "<Figure size 432x288 with 1 Axes>"
      ]
     },
     "metadata": {
      "needs_background": "light"
     },
     "output_type": "display_data"
    },
    {
     "name": "stdout",
     "output_type": "stream",
     "text": [
      "NRMS= 3.1667110017225014e-08\n"
     ]
    }
   ],
   "source": [
    "print('a fitted:', fit_sys.fn.a.item(), ' real a:',a_now)\n",
    "print('b fitted:', fit_sys.encoder.b.item(), ' real b:',a_now)\n",
    "test_p = fit_sys.apply_experiment(test)\n",
    "test.plot()\n",
    "(test_p-test).plot()\n",
    "plt.show()\n",
    "print('NRMS=',test_p.NRMS(test)) #1.0e-7"
   ]
  },
  {
   "cell_type": "markdown",
   "id": "9a980f86",
   "metadata": {},
   "source": [
    "# Nonlinear encoder"
   ]
  },
  {
   "cell_type": "code",
   "execution_count": 7,
   "id": "c38c7593",
   "metadata": {},
   "outputs": [
    {
     "name": "stdout",
     "output_type": "stream",
     "text": [
      "Model already initilized (init_model_done=True), skipping initilizing of the model, the norm and the creation of the optimizer\n",
      "Size of the training array =  1.7 MB\n",
      "N_training_samples = 5599, batch_size = 256, N_batch_updates_per_epoch = 21\n",
      "Initial Validation sim-NRMS= 0.07240114130760966\n"
     ]
    },
    {
     "data": {
      "application/vnd.jupyter.widget-view+json": {
       "model_id": "762c3915efdc415ab55143c4b9816af0",
       "version_major": 2,
       "version_minor": 0
      },
      "text/plain": [
       "  0%|          | 0/100 [00:00<?, ?it/s]"
      ]
     },
     "metadata": {},
     "output_type": "display_data"
    },
    {
     "name": "stdout",
     "output_type": "stream",
     "text": [
      "########## New lowest validation loss achieved ########### sim-NRMS = 0.04330353569637711\n",
      "Epoch    1, sqrt loss  0.1836, Val sim-NRMS 0.0433, Time Loss: 58.7%, data: 4.0%, val: 37.3%, 87.2 batches/sec\n",
      "########## New lowest validation loss achieved ########### sim-NRMS = 0.020700631636655954\n",
      "Epoch    2, sqrt loss 0.07987, Val sim-NRMS 0.0207, Time Loss: 57.7%, data: 2.4%, val: 39.9%, 97.2 batches/sec\n",
      "########## New lowest validation loss achieved ########### sim-NRMS = 0.005213502823259933\n",
      "Epoch    3, sqrt loss 0.04982, Val sim-NRMS 0.005214, Time Loss: 56.1%, data: 1.8%, val: 41.9%, 103.7 batches/sec\n",
      "########## New lowest validation loss achieved ########### sim-NRMS = 0.0005706028856161037\n",
      "Epoch    4, sqrt loss  0.0434, Val sim-NRMS 0.0005706, Time Loss: 57.3%, data: 1.8%, val: 40.9%, 100.9 batches/sec\n",
      "Epoch    5, sqrt loss  0.0411, Val sim-NRMS 0.001029, Time Loss: 55.5%, data: 1.5%, val: 42.1%, 97.4 batches/sec\n",
      "Epoch    6, sqrt loss 0.03911, Val sim-NRMS 0.000707, Time Loss: 54.5%, data: 1.6%, val: 43.2%, 99.2 batches/sec\n",
      "########## New lowest validation loss achieved ########### sim-NRMS = 0.00018564716303870934\n",
      "Epoch    7, sqrt loss 0.03722, Val sim-NRMS 0.0001856, Time Loss: 53.8%, data: 1.4%, val: 44.2%, 99.2 batches/sec\n",
      "Epoch    8, sqrt loss 0.03577, Val sim-NRMS 0.0004045, Time Loss: 53.7%, data: 1.5%, val: 44.2%, 102.1 batches/sec\n",
      "Epoch    9, sqrt loss 0.03401, Val sim-NRMS 0.0005512, Time Loss: 54.2%, data: 1.5%, val: 43.7%, 103.3 batches/sec\n",
      "Epoch   10, sqrt loss  0.0324, Val sim-NRMS 0.0004223, Time Loss: 54.0%, data: 1.8%, val: 43.7%, 102.8 batches/sec\n",
      "Epoch   11, sqrt loss 0.03099, Val sim-NRMS 0.0001954, Time Loss: 53.9%, data: 1.8%, val: 43.8%, 103.8 batches/sec\n",
      "########## New lowest validation loss achieved ########### sim-NRMS = 0.0001551997481123877\n",
      "Epoch   12, sqrt loss 0.02958, Val sim-NRMS 0.0001552, Time Loss: 54.0%, data: 1.8%, val: 43.8%, 103.5 batches/sec\n",
      "Epoch   13, sqrt loss 0.02819, Val sim-NRMS 0.0004881, Time Loss: 54.0%, data: 1.9%, val: 43.8%, 104.1 batches/sec\n",
      "Epoch   14, sqrt loss 0.02672, Val sim-NRMS 0.0002284, Time Loss: 53.8%, data: 1.8%, val: 44.0%, 104.4 batches/sec\n",
      "Epoch   15, sqrt loss 0.02547, Val sim-NRMS 0.0001713, Time Loss: 53.7%, data: 1.7%, val: 44.3%, 104.8 batches/sec\n",
      "########## New lowest validation loss achieved ########### sim-NRMS = 0.00013510547871807896\n",
      "Epoch   16, sqrt loss 0.02435, Val sim-NRMS 0.0001351, Time Loss: 52.9%, data: 2.1%, val: 44.7%, 104.7 batches/sec\n",
      "Epoch   17, sqrt loss 0.02318, Val sim-NRMS 0.0001736, Time Loss: 53.4%, data: 2.3%, val: 44.0%, 104.3 batches/sec\n",
      "Epoch   18, sqrt loss 0.02213, Val sim-NRMS 0.0001949, Time Loss: 53.5%, data: 2.2%, val: 44.1%, 103.3 batches/sec\n",
      "Epoch   19, sqrt loss 0.02122, Val sim-NRMS 0.0001585, Time Loss: 53.5%, data: 2.2%, val: 44.1%, 103.9 batches/sec\n",
      "Epoch   20, sqrt loss 0.02022, Val sim-NRMS 0.0002315, Time Loss: 53.0%, data: 2.3%, val: 44.4%, 104.0 batches/sec\n",
      "Epoch   21, sqrt loss 0.01945, Val sim-NRMS 0.0004004, Time Loss: 52.8%, data: 2.2%, val: 44.7%, 104.2 batches/sec\n",
      "Epoch   22, sqrt loss 0.01841, Val sim-NRMS 0.0005912, Time Loss: 53.0%, data: 2.2%, val: 44.6%, 104.4 batches/sec\n",
      "Epoch   23, sqrt loss 0.01772, Val sim-NRMS 0.0009089, Time Loss: 53.1%, data: 2.2%, val: 44.5%, 105.1 batches/sec\n",
      "Epoch   24, sqrt loss 0.01673, Val sim-NRMS 0.0002238, Time Loss: 53.2%, data: 2.2%, val: 44.4%, 105.0 batches/sec\n",
      "Epoch   25, sqrt loss 0.01605, Val sim-NRMS 0.0004366, Time Loss: 53.0%, data: 2.1%, val: 44.7%, 104.7 batches/sec\n",
      "Epoch   26, sqrt loss 0.01493, Val sim-NRMS 0.0003064, Time Loss: 53.3%, data: 2.1%, val: 44.4%, 104.8 batches/sec\n",
      "Epoch   27, sqrt loss 0.01476, Val sim-NRMS 0.0001637, Time Loss: 53.5%, data: 2.1%, val: 44.2%, 104.6 batches/sec\n",
      "Epoch   28, sqrt loss 0.01421, Val sim-NRMS 0.0004282, Time Loss: 53.5%, data: 2.0%, val: 44.3%, 105.1 batches/sec\n",
      "Epoch   29, sqrt loss 0.01341, Val sim-NRMS 0.0003335, Time Loss: 53.5%, data: 2.0%, val: 44.4%, 105.6 batches/sec\n",
      "Epoch   30, sqrt loss 0.01322, Val sim-NRMS 0.0006253, Time Loss: 53.5%, data: 2.0%, val: 44.3%, 106.3 batches/sec\n",
      "########## New lowest validation loss achieved ########### sim-NRMS = 5.536764361934592e-05\n",
      "Epoch   31, sqrt loss 0.01198, Val sim-NRMS 5.537e-05, Time Loss: 53.5%, data: 2.0%, val: 44.3%, 106.4 batches/sec\n",
      "Epoch   32, sqrt loss 0.01185, Val sim-NRMS 0.0005361, Time Loss: 53.6%, data: 1.9%, val: 44.3%, 105.8 batches/sec\n",
      "Epoch   33, sqrt loss 0.01121, Val sim-NRMS 0.000235, Time Loss: 53.5%, data: 2.0%, val: 44.4%, 105.1 batches/sec\n",
      "Epoch   34, sqrt loss 0.01053, Val sim-NRMS 8.78e-05, Time Loss: 53.4%, data: 2.0%, val: 44.5%, 105.4 batches/sec\n",
      "Epoch   35, sqrt loss 0.01026, Val sim-NRMS 0.0003873, Time Loss: 53.3%, data: 2.0%, val: 44.5%, 104.7 batches/sec\n",
      "Epoch   36, sqrt loss 0.009639, Val sim-NRMS 0.0006338, Time Loss: 53.4%, data: 2.2%, val: 44.2%, 104.3 batches/sec\n",
      "Epoch   37, sqrt loss 0.009154, Val sim-NRMS 0.0002847, Time Loss: 53.6%, data: 2.2%, val: 44.1%, 104.6 batches/sec\n",
      "Epoch   38, sqrt loss 0.008812, Val sim-NRMS 0.0002685, Time Loss: 53.6%, data: 2.3%, val: 44.0%, 104.8 batches/sec\n",
      "Epoch   39, sqrt loss 0.008185, Val sim-NRMS 0.000493, Time Loss: 53.7%, data: 2.3%, val: 43.8%, 104.5 batches/sec\n",
      "Epoch   40, sqrt loss 0.007798, Val sim-NRMS 0.0005332, Time Loss: 53.8%, data: 2.3%, val: 43.7%, 104.4 batches/sec\n",
      "Epoch   41, sqrt loss 0.007282, Val sim-NRMS 0.0004346, Time Loss: 53.8%, data: 2.3%, val: 43.8%, 104.8 batches/sec\n",
      "########## New lowest validation loss achieved ########### sim-NRMS = 4.879877486178063e-05\n",
      "Epoch   42, sqrt loss 0.007129, Val sim-NRMS 4.88e-05, Time Loss: 53.6%, data: 2.4%, val: 43.9%, 104.6 batches/sec\n",
      "Epoch   43, sqrt loss 0.006793, Val sim-NRMS 0.0004247, Time Loss: 53.7%, data: 2.3%, val: 43.8%, 104.7 batches/sec\n",
      "Epoch   44, sqrt loss 0.006506, Val sim-NRMS 6.635e-05, Time Loss: 53.8%, data: 2.3%, val: 43.7%, 104.9 batches/sec\n",
      "Epoch   45, sqrt loss 0.006009, Val sim-NRMS 0.0005056, Time Loss: 53.5%, data: 2.4%, val: 43.9%, 104.7 batches/sec\n",
      "Epoch   46, sqrt loss 0.005602, Val sim-NRMS 7.919e-05, Time Loss: 53.5%, data: 2.4%, val: 43.9%, 104.9 batches/sec\n",
      "Epoch   47, sqrt loss 0.005295, Val sim-NRMS 0.0005033, Time Loss: 53.5%, data: 2.4%, val: 43.9%, 105.3 batches/sec\n",
      "Epoch   48, sqrt loss 0.005154, Val sim-NRMS 0.0001388, Time Loss: 53.7%, data: 2.4%, val: 43.8%, 105.3 batches/sec\n",
      "Epoch   49, sqrt loss 0.004863, Val sim-NRMS 0.0003052, Time Loss: 53.8%, data: 2.4%, val: 43.7%, 105.4 batches/sec\n",
      "########## New lowest validation loss achieved ########### sim-NRMS = 3.0792108756805664e-05\n",
      "Epoch   50, sqrt loss 0.004696, Val sim-NRMS 3.079e-05, Time Loss: 53.8%, data: 2.3%, val: 43.8%, 105.7 batches/sec\n",
      "########## New lowest validation loss achieved ########### sim-NRMS = 1.9697766242932688e-05\n",
      "Epoch   51, sqrt loss 0.004554, Val sim-NRMS 1.97e-05, Time Loss: 53.8%, data: 2.3%, val: 43.8%, 105.8 batches/sec\n",
      "Epoch   52, sqrt loss 0.004605, Val sim-NRMS 0.0005789, Time Loss: 53.8%, data: 2.3%, val: 43.8%, 106.2 batches/sec\n",
      "Epoch   53, sqrt loss 0.004522, Val sim-NRMS 0.000386, Time Loss: 53.8%, data: 2.3%, val: 43.7%, 106.4 batches/sec\n",
      "Epoch   54, sqrt loss 0.004266, Val sim-NRMS 0.0001002, Time Loss: 53.6%, data: 2.5%, val: 43.8%, 106.1 batches/sec\n",
      "Epoch   55, sqrt loss 0.004219, Val sim-NRMS 0.0001844, Time Loss: 53.8%, data: 2.5%, val: 43.6%, 106.0 batches/sec\n",
      "Epoch   56, sqrt loss 0.004205, Val sim-NRMS 0.000463, Time Loss: 53.9%, data: 2.4%, val: 43.5%, 105.9 batches/sec\n",
      "Epoch   57, sqrt loss 0.004081, Val sim-NRMS 0.000212, Time Loss: 53.9%, data: 2.4%, val: 43.6%, 105.7 batches/sec\n",
      "Epoch   58, sqrt loss 0.003952, Val sim-NRMS 0.0002567, Time Loss: 53.8%, data: 2.5%, val: 43.6%, 105.7 batches/sec\n",
      "########## New lowest validation loss achieved ########### sim-NRMS = 1.3463344826386672e-05\n",
      "Epoch   59, sqrt loss 0.003859, Val sim-NRMS 1.346e-05, Time Loss: 53.8%, data: 2.4%, val: 43.6%, 105.6 batches/sec\n",
      "Epoch   60, sqrt loss 0.004102, Val sim-NRMS 0.0002493, Time Loss: 53.7%, data: 2.5%, val: 43.7%, 105.7 batches/sec\n",
      "Epoch   61, sqrt loss 0.00425, Val sim-NRMS 0.0005554, Time Loss: 53.6%, data: 2.5%, val: 43.8%, 105.2 batches/sec\n",
      "Epoch   62, sqrt loss 0.003776, Val sim-NRMS 0.0003924, Time Loss: 53.7%, data: 2.5%, val: 43.7%, 105.2 batches/sec\n"
     ]
    },
    {
     "name": "stdout",
     "output_type": "stream",
     "text": [
      "Epoch   63, sqrt loss 0.003642, Val sim-NRMS 5.424e-05, Time Loss: 53.9%, data: 2.4%, val: 43.6%, 105.2 batches/sec\n",
      "Epoch   64, sqrt loss 0.00376, Val sim-NRMS 0.0003474, Time Loss: 53.9%, data: 2.4%, val: 43.5%, 105.5 batches/sec\n",
      "Epoch   65, sqrt loss 0.003717, Val sim-NRMS 0.0003707, Time Loss: 53.9%, data: 2.5%, val: 43.5%, 105.5 batches/sec\n",
      "Epoch   66, sqrt loss 0.003681, Val sim-NRMS 0.0002579, Time Loss: 53.9%, data: 2.5%, val: 43.6%, 105.8 batches/sec\n",
      "Epoch   67, sqrt loss 0.003684, Val sim-NRMS 0.0003119, Time Loss: 53.8%, data: 2.4%, val: 43.7%, 105.7 batches/sec\n",
      "Epoch   68, sqrt loss 0.003682, Val sim-NRMS 0.0001177, Time Loss: 53.7%, data: 2.4%, val: 43.8%, 105.3 batches/sec\n",
      "Epoch   69, sqrt loss 0.003551, Val sim-NRMS 5.304e-05, Time Loss: 53.7%, data: 2.4%, val: 43.8%, 105.1 batches/sec\n",
      "Epoch   70, sqrt loss 0.003503, Val sim-NRMS 0.0001248, Time Loss: 53.7%, data: 2.5%, val: 43.7%, 105.2 batches/sec\n",
      "Epoch   71, sqrt loss 0.003495, Val sim-NRMS 8.061e-05, Time Loss: 53.7%, data: 2.5%, val: 43.7%, 105.3 batches/sec\n",
      "Epoch   72, sqrt loss 0.003509, Val sim-NRMS 0.0001018, Time Loss: 53.7%, data: 2.5%, val: 43.7%, 105.5 batches/sec\n",
      "Epoch   73, sqrt loss 0.003449, Val sim-NRMS 5.272e-05, Time Loss: 53.7%, data: 2.5%, val: 43.8%, 105.6 batches/sec\n",
      "Epoch   74, sqrt loss 0.003499, Val sim-NRMS 0.0001147, Time Loss: 53.7%, data: 2.5%, val: 43.8%, 105.3 batches/sec\n",
      "Epoch   75, sqrt loss 0.003403, Val sim-NRMS 0.0001145, Time Loss: 53.6%, data: 2.5%, val: 43.8%, 104.7 batches/sec\n",
      "Epoch   76, sqrt loss 0.003377, Val sim-NRMS 0.0002502, Time Loss: 53.5%, data: 2.4%, val: 44.0%, 104.5 batches/sec\n",
      "Epoch   77, sqrt loss 0.003218, Val sim-NRMS 0.0002661, Time Loss: 53.6%, data: 2.4%, val: 43.9%, 104.4 batches/sec\n",
      "Epoch   78, sqrt loss 0.003245, Val sim-NRMS 4.933e-05, Time Loss: 53.5%, data: 2.4%, val: 43.9%, 104.6 batches/sec\n",
      "Epoch   79, sqrt loss 0.003242, Val sim-NRMS 4.275e-05, Time Loss: 53.5%, data: 2.4%, val: 44.0%, 104.3 batches/sec\n",
      "########## New lowest validation loss achieved ########### sim-NRMS = 4.53102176711994e-06\n",
      "Epoch   80, sqrt loss 0.003046, Val sim-NRMS 4.531e-06, Time Loss: 53.3%, data: 2.4%, val: 44.2%, 104.0 batches/sec\n",
      "Epoch   81, sqrt loss 0.003264, Val sim-NRMS 0.0001049, Time Loss: 53.4%, data: 2.4%, val: 44.0%, 103.7 batches/sec\n",
      "Epoch   82, sqrt loss 0.003123, Val sim-NRMS 0.0001669, Time Loss: 53.5%, data: 2.4%, val: 44.0%, 103.5 batches/sec\n",
      "Epoch   83, sqrt loss 0.003119, Val sim-NRMS 3.139e-05, Time Loss: 53.4%, data: 2.4%, val: 44.0%, 103.6 batches/sec\n",
      "Epoch   84, sqrt loss 0.003083, Val sim-NRMS 5.377e-05, Time Loss: 53.4%, data: 2.4%, val: 44.1%, 103.6 batches/sec\n",
      "Epoch   85, sqrt loss 0.003023, Val sim-NRMS 2.994e-05, Time Loss: 53.4%, data: 2.4%, val: 44.1%, 103.5 batches/sec\n",
      "Epoch   86, sqrt loss 0.002833, Val sim-NRMS 9.368e-05, Time Loss: 53.3%, data: 2.4%, val: 44.1%, 103.4 batches/sec\n",
      "Epoch   87, sqrt loss 0.00306, Val sim-NRMS 0.0001973, Time Loss: 53.4%, data: 2.4%, val: 44.1%, 103.3 batches/sec\n",
      "Epoch   88, sqrt loss 0.003007, Val sim-NRMS 7.667e-05, Time Loss: 53.4%, data: 2.4%, val: 44.1%, 103.3 batches/sec\n",
      "Epoch   89, sqrt loss 0.002951, Val sim-NRMS 5.594e-05, Time Loss: 53.4%, data: 2.4%, val: 44.1%, 103.4 batches/sec\n",
      "Epoch   90, sqrt loss 0.002785, Val sim-NRMS 0.0001305, Time Loss: 53.4%, data: 2.4%, val: 44.1%, 103.5 batches/sec\n",
      "Epoch   91, sqrt loss 0.002836, Val sim-NRMS 8.595e-05, Time Loss: 53.3%, data: 2.5%, val: 44.1%, 103.6 batches/sec\n",
      "Epoch   92, sqrt loss 0.002875, Val sim-NRMS 0.0001208, Time Loss: 53.3%, data: 2.4%, val: 44.1%, 103.7 batches/sec\n",
      "Epoch   93, sqrt loss 0.002959, Val sim-NRMS 6.126e-05, Time Loss: 53.3%, data: 2.4%, val: 44.1%, 103.8 batches/sec\n",
      "Epoch   94, sqrt loss 0.002854, Val sim-NRMS 1.6e-05, Time Loss: 53.3%, data: 2.5%, val: 44.1%, 103.6 batches/sec\n",
      "Epoch   95, sqrt loss 0.002862, Val sim-NRMS 3.384e-05, Time Loss: 53.3%, data: 2.5%, val: 44.2%, 103.6 batches/sec\n",
      "Epoch   96, sqrt loss 0.002858, Val sim-NRMS 6.483e-05, Time Loss: 53.3%, data: 2.4%, val: 44.1%, 103.5 batches/sec\n",
      "Epoch   97, sqrt loss 0.002798, Val sim-NRMS 4.8e-05, Time Loss: 53.3%, data: 2.4%, val: 44.1%, 103.5 batches/sec\n",
      "Epoch   98, sqrt loss 0.002842, Val sim-NRMS 3.104e-05, Time Loss: 53.3%, data: 2.5%, val: 44.2%, 103.6 batches/sec\n",
      "Epoch   99, sqrt loss 0.002767, Val sim-NRMS 8.141e-05, Time Loss: 53.3%, data: 2.4%, val: 44.1%, 103.6 batches/sec\n",
      "Epoch  100, sqrt loss 0.002881, Val sim-NRMS 0.0001782, Time Loss: 53.3%, data: 2.4%, val: 44.1%, 103.4 batches/sec\n",
      "Loaded model with best known validation sim-NRMS of 4.531e-06 which happened on epoch 80 (epoch_id=80.00)\n"
     ]
    }
   ],
   "source": [
    "fit_sys = deepSI.fit_systems.SS_encoder_general(nx=1, na=2, nb=2,\\\n",
    "                                                e_net=my_encoder_net, e_net_kwargs=dict(),\\\n",
    "                                                f_net=my_state_net, f_net_kwargs=dict(a0=a_now*0.9),\\\n",
    "                                                h_net=my_output_net)\n",
    "fit_sys.init_model(nu=None,ny=None)\n",
    "fit_sys.fit(train, val, epochs=100, loss_kwargs=dict(nf=25), auto_fit_norm=False, optimizer_kwargs=dict(betas=(0.99,0.999))) #nf = T in the paper\n"
   ]
  },
  {
   "cell_type": "markdown",
   "id": "56fd88e2",
   "metadata": {},
   "source": [
    "## Results nonlinear encoder"
   ]
  },
  {
   "cell_type": "code",
   "execution_count": 8,
   "id": "9864d9f1",
   "metadata": {},
   "outputs": [
    {
     "name": "stdout",
     "output_type": "stream",
     "text": [
      "a fitted: 0.499997079372406  real a: 0.5\n"
     ]
    },
    {
     "data": {
      "image/png": "[encoded data removed]",
      "text/plain": [
       "<Figure size 432x288 with 1 Axes>"
      ]
     },
     "metadata": {
      "needs_background": "light"
     },
     "output_type": "display_data"
    },
    {
     "name": "stdout",
     "output_type": "stream",
     "text": [
      "NRMS: 0.00021692842094731137\n"
     ]
    },
    {
     "data": {
      "image/png": "[encoded data removed]",
      "text/plain": [
       "<Figure size 432x288 with 1 Axes>"
      ]
     },
     "metadata": {
      "needs_background": "light"
     },
     "output_type": "display_data"
    }
   ],
   "source": [
    "print('a fitted:', fit_sys.fn.a.item(), ' real a:',a_now)\n",
    "test_p = fit_sys.apply_experiment(test)\n",
    "test.plot()\n",
    "(test_p-test).plot()\n",
    "plt.show()\n",
    "print('NRMS:',test_p.NRMS(test)) #1.0e-7\n",
    "fit_sys.n_step_error_plot(test) #encoder isn't perfect but it works"
   ]
  }
 ],
 "metadata": {
  "kernelspec": {
   "display_name": "Python 3 (ipykernel)",
   "language": "python",
   "name": "python3"
  },
  "language_info": {
   "codemirror_mode": {
    "name": "ipython",
    "version": 3
   },
   "file_extension": ".py",
   "mimetype": "text/x-python",
   "name": "python",
   "nbconvert_exporter": "python",
   "pygments_lexer": "ipython3",
   "version": "3.8.8"
  }
 },
 "nbformat": 4,
 "nbformat_minor": 5
}
